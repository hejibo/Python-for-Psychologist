{
 "metadata": {
  "name": ""
 },
 "nbformat": 3,
 "nbformat_minor": 0,
 "worksheets": [
  {
   "cells": [
    {
     "cell_type": "heading",
     "level": 1,
     "metadata": {},
     "source": [
      "Py4ET 2013: Creating Fixation Density Plot using Heat Maps"
     ]
    },
    {
     "cell_type": "markdown",
     "metadata": {},
     "source": [
      "Setup Code\n",
      "-----------\n",
      "\n",
      "+ **Load necessary Python Modules:**"
     ]
    },
    {
     "cell_type": "code",
     "collapsed": false,
     "input": [
      "from executeNotebook import execute_notebook\n",
      "execute_notebook(\"Py4ET_2013_ECEM_Workshop.ipynb\")"
     ],
     "language": "python",
     "metadata": {},
     "outputs": [],
     "prompt_number": 1
    },
    {
     "cell_type": "markdown",
     "metadata": {},
     "source": [
      "Create 2D Gaussian Mask Template\n",
      "----------------------------------"
     ]
    },
    {
     "cell_type": "code",
     "collapsed": false,
     "input": [
      "# Gaussian Mask for Fixations\n",
      "\n",
      "# Sigma of Gaussian in pixels.\n",
      "# 37 pixels = ~ 2 visual degree on a 1024x768 monitor at 60 cm.\n",
      "#\n",
      "sigma_x = sigma_y = 67.0\n",
      "\n",
      "min_fix_duration=0\n",
      "max_fix_duration=500\n",
      "\n",
      "# True : Each fixations impact on the fixation map is linearly proprotional to the fixation dwell time\n",
      "#        within fixation duration range min_fix_duration to max_fix_duration\n",
      "# False: Fixations are still filtered by min_fix_duration, max_fix_duration; however each fixation\n",
      "#        provides equal weight to the fixtion map, regardless of duration.\n",
      "use_dwell_time_weighting=False\n",
      "\n",
      "# Percentile range of fixation map distribution to include in heat map calculation\n",
      "fix_perc_range=[5,95]\n",
      "\n",
      "# Percentile floor of fixation map distribution for heat map visualization\n",
      "min_fix_dist_perc=10\n",
      "\n",
      "# Create x and y pixel ranges for Gauss Mask.\n",
      "#\n",
      "x = np.arange(-sigma_x*2.5,sigma_x*2.5, 1)\n",
      "y = np.arange(-sigma_y*2.5, sigma_y*2.5, 1)\n",
      "\n",
      "# Create X and Y pixel position values for each element of Gauss. Mask.\n",
      "#\n",
      "X, Y = np.meshgrid(x, y)\n",
      "\n",
      "# Create 2D Gauss Mask as numpy array using X and Y mesh grid data\n",
      "# and sigma's, with Gauss centered in 2D array (0,0)\n",
      "#\n",
      "gauss=mlab.bivariate_normal(X, Y, sigma_x, sigma_y, 0,0)\n",
      "gauss*=1.0/gauss.max()\n",
      "ghw,ghh=gauss.shape[1]//2,gauss.shape[0]//2\n",
      "\n",
      "# Lets plot the Gauss Mask for illustrative purposes...\n",
      "#\n",
      "gmp=plt.imshow(gauss,cmap=cm.gray,origin='lower',extent=(-ghw, ghw,-ghh, ghh))"
     ],
     "language": "python",
     "metadata": {},
     "outputs": [],
     "prompt_number": 2
    },
    {
     "cell_type": "markdown",
     "metadata": {},
     "source": [
      "Load Background Image Displayed During Eye Data Collection\n",
      "-----------------------------------------------------------"
     ]
    },
    {
     "cell_type": "code",
     "collapsed": false,
     "input": [
      "# Load example background image\n",
      "# Flip vertically... \n",
      "image_array=numpy.flipud(mpimg.imread(\"./images/fall.jpg\"))\n",
      "    \n",
      "# Get background image size\n",
      "image_size=(image_array.shape[1],image_array.shape[0])\n",
      "ihw,ihh=image_size[0]/2,image_size[1]/2\n",
      "\n",
      "# Display image for illustrative purposes, 0,0 is image center.\n",
      "#\n",
      "bip=plt.imshow(image_array,origin='lower',extent=(-ihw, ihw,-ihh, ihh))"
     ],
     "language": "python",
     "metadata": {},
     "outputs": [],
     "prompt_number": 3
    },
    {
     "cell_type": "markdown",
     "metadata": {},
     "source": [
      "Create some Random Fixation Data\n",
      "---------------------------------"
     ]
    },
    {
     "cell_type": "code",
     "collapsed": false,
     "input": [
      "# Here, the fixation event data is being simulated as 500 fixations\n",
      "# of random position within center 50% of fixation_map,\n",
      "# and with random fixation durations between 150 and 1500 msec.\n",
      "#\n",
      "sim_fix_count=500\n",
      "fix_duration_range=min_fix_duration,max_fix_duration\n",
      "fixation_x_range=image_size[0]/2, image_size[0]+image_size[0]/2\n",
      "fixation_y_range=image_size[1]/2, image_size[1]+image_size[1]/2\n",
      "\n",
      "# Create the dummy Fixation Data as a 3x500 numpy array\n",
      "#\n",
      "fix_pos=np.column_stack( (np.random.randint(*fixation_x_range, size=sim_fix_count),np.random.randint(*fixation_y_range, size=sim_fix_count),np.random.randint(*fix_duration_range, size=sim_fix_count)))\n",
      "\n",
      "# Plot the fixation data for illustrative purposes.\n",
      "#\n",
      "sfd=plt.scatter(fix_pos[:,0],fix_pos[:,1],s=fix_pos[:,2]/10)\n",
      "plt.show()"
     ],
     "language": "python",
     "metadata": {},
     "outputs": [],
     "prompt_number": 4
    },
    {
     "cell_type": "markdown",
     "metadata": {},
     "source": [
      "Create the Fixation Density Map Layer based on the Gauss Mask Template and the Fixation Data\n",
      "---------------------------------------------------------------------------------------------"
     ]
    },
    {
     "cell_type": "code",
     "collapsed": false,
     "input": [
      "# Start with empty 2D numpy array 2x size of fixation data \n",
      "# (makes applying Gauss mask for each fixation easier)\n",
      "#\n",
      "fixation_map=np.zeros((image_size[1]*2, image_size[0]*2))\n",
      "\n",
      "# Apply Gauss. Mask to each fixation position based on the created fixation event data.\n",
      "#\n",
      "if use_dwell_time_weighting:\n",
      "    for fx,fy,fix_dur in fix_pos:\n",
      "        fixation_map[fy-ghh:fy+ghh+1,fx-ghw:fx+ghh+1]+=(gauss*fix_dur)\n",
      "else:\n",
      "    for fx,fy,fix_dur in fix_pos:\n",
      "        fixation_map[fy-ghh:fy+ghh+1,fx-ghw:fx+ghh+1]+=gauss\n",
      "    \n",
      "# Trim the Fixation Density Mask Back Down to Match the Image Size\n",
      "#\n",
      "fixation_map=fixation_map[image_size[1]/2:image_size[1]+image_size[1]/2,image_size[0]/2:image_size[0]+image_size[0]/2]\n",
      "\n",
      "# Apply fixation map pertentile heuristics to heat map:\n",
      "#\n",
      "min_fix_map_value=scipy.stats.scoreatpercentile(fixation_map, min_fix_dist_perc, limit=fix_perc_range)\n",
      "fix_floor_value=scipy.stats.scoreatpercentile(fixation_map, fix_perc_range[0])\n",
      "fix_ceil_value=scipy.stats.scoreatpercentile(fixation_map, fix_perc_range[1])\n",
      "\n",
      "fixation_map[fixation_map<fix_floor_value]=fix_floor_value\n",
      "fixation_map[fixation_map>fix_ceil_value]=fix_ceil_value\n",
      "fixation_map[fixation_map<min_fix_map_value]=min_fix_map_value\n",
      "\n",
      "# Plot Fixation Density Mask Alone for illustrative purposes\n",
      "# using a Yellow->Orange->Red Color Map.\n",
      "clmap=plt.get_cmap('YlOrRd')\n",
      "im = plt.imshow(fixation_map, interpolation='nearest', origin='lower',extent=(-image_size[0]/2, image_size[0]/2,-image_size[1]/2, image_size[1]/2),cmap=clmap)\n",
      "           \n",
      "plt.colorbar()\n",
      "plt.show()"
     ],
     "language": "python",
     "metadata": {},
     "outputs": [],
     "prompt_number": 5
    },
    {
     "cell_type": "markdown",
     "metadata": {},
     "source": [
      "Putting it all Together: Heat Map Representation of Fixation Position and Dwell Time Density During Image Viewing\n",
      "------------------------------------------------------------------------------------------------------------------"
     ]
    },
    {
     "cell_type": "code",
     "collapsed": false,
     "input": [
      "orginal_plt_width,orginal_plt_height=plt.rcParams['figure.figsize'] \n",
      "plt.rcParams['figure.figsize'] =orginal_plt_width*2,orginal_plt_height*2\n",
      " \n",
      "\n",
      "plt.figure()\n",
      "\n",
      "# Draw the background Image\n",
      "#\n",
      "plt.imshow(image_array,origin='lower',extent=(-image_size[0]/2, image_size[0]/2,-image_size[1]/2, image_size[1]/2))\n",
      "\n",
      "# Create RGBA values for the color map created above.\n",
      "# Set the Color Map Transparency to Increase as a Function of Fixation Dwell Time.  \n",
      "#\n",
      "clmap._init()\n",
      "alphas = np.linspace(0, 0.9, clmap.N+3)\n",
      "clmap._lut[:,-1] = alphas\n",
      "# Draw the Fixation Map Mask over the Background Image using the Color Map:\n",
      "#\n",
      "im = plt.imshow(fixation_map, origin='lower',\n",
      "                 extent=(-image_size[0]/2, image_size[0]/2,-image_size[1]/2, image_size[1]/2),cmap=clmap,alpha=1.0)\n",
      "\n",
      "# Display the Heat Map Scale:\n",
      "#\n",
      "plt.colorbar()\n",
      "\n",
      "plt.rcParams['figure.figsize']=orginal_plt_width,orginal_plt_height\n",
      "\n",
      "plt.show()"
     ],
     "language": "python",
     "metadata": {},
     "outputs": [],
     "prompt_number": 8
    },
    {
     "cell_type": "markdown",
     "metadata": {},
     "source": [
      "**That's it!**"
     ]
    }
   ],
   "metadata": {}
  }
 ]
}