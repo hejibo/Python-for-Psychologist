{
 "metadata": {
  "name": ""
 },
 "nbformat": 3,
 "nbformat_minor": 0,
 "worksheets": [
  {
   "cells": [
    {
     "cell_type": "markdown",
     "metadata": {},
     "source": [
      "#Eye Data Visualization\n",
      "\n",
      "There are seemingly endless ways to visualize and plot data collected from eye tracking devices. Which types of visualization are most relevent depends directly on the application / experimental paridigm the eye tracker is being used in, and the type of data analysis that will be performed on the resulting data collected.\n",
      "\n",
      "We will review example implementations for the following data visualization / plotting methods:\n",
      "\n",
      "- Eye Position Traces\n",
      "- Scan Paths\n",
      "- Attentional Heat Maps\n",
      "- Eye Movement Animation"
     ]
    },
    {
     "cell_type": "code",
     "collapsed": false,
     "input": [
      "from executeNotebook import execute_notebook\n",
      "execute_notebook(\"Py4ET_2013_ECEM_Workshop.ipynb\")"
     ],
     "language": "python",
     "metadata": {},
     "outputs": [],
     "prompt_number": 1
    },
    {
     "cell_type": "markdown",
     "metadata": {},
     "source": [
      "---\n",
      "\n",
      "#A. Plotting Eye Position Traces\n",
      "\n",
      "- Read Data From ioDataStore\n",
      "- Clean-up *Missing* Sample Data Points (i.e. from Blinks, Eye Occlusion, and Other Causes of Eye Tracking Loss\n",
      "- Plot the Data\n",
      "\n",
      "###Reading Data...."
     ]
    },
    {
     "cell_type": "code",
     "collapsed": false,
     "input": [
      "# Select the ioDataStore hdf5 file to process.\n",
      "# and load specified event type and event attribute values.\n",
      "#\n",
      "session_trial_sample_data=loadSampleData(ET_WORKBOOK_INFO['event_type'],\n",
      "                                         ET_WORKBOOK_INFO['event_fields'])\n"
     ],
     "language": "python",
     "metadata": {},
     "outputs": [],
     "prompt_number": 2
    },
    {
     "cell_type": "markdown",
     "metadata": {},
     "source": [
      "### Cleaning Up Periods of *Missing* Eye Data"
     ]
    },
    {
     "cell_type": "code",
     "collapsed": false,
     "input": [
      "# First, clean up the data so it is in a more *plottable* form, by getting periods of no eye data \n",
      "# and setting them to np.NaN values. By doing so we can:\n",
      "#      1) Highlight periods of no eye data in the trace plots\n",
      "#      2) Display no data trace line during the missing eye data chunks.\n",
      "# \n",
      "\n",
      "# Process sample streams for plotting\n",
      "#\n",
      "gaze_field_groups=ET_WORKBOOK_INFO['gaze_fields']\n",
      "pupil_size_fields=ET_WORKBOOK_INFO['pupil_size_fields']\n",
      "\n",
      "for t,tsamples in enumerate(session_trial_sample_data):\n",
      "    invalid_data_masks=[]\n",
      "    if EYE_TRACKER_USED=='SRR':\n",
      "        invalid_data_masks.append(tsamples.pupil_measure1==0)\n",
      "        \n",
      "    elif EYE_TRACKER_USED=='TOBII':\n",
      "        invalid_data_masks.append(tsamples.status//10>=2)\n",
      "        invalid_data_masks.append(tsamples.status%10>=2)\n",
      "    \n",
      "    for pi,pupil_size in enumerate(pupil_size_fields):\n",
      "        x,y=getattr(tsamples,gaze_field_groups[pi][0]),getattr(tsamples,gaze_field_groups[pi][1])\n",
      "        p=getattr(tsamples,pupil_size)\n",
      "        valid_data_periods=processSampleEventGaps(x,y,p,invalid_data_masks[pi],'clear')"
     ],
     "language": "python",
     "metadata": {},
     "outputs": [],
     "prompt_number": 3
    },
    {
     "cell_type": "markdown",
     "metadata": {},
     "source": [
      "### Plotting Eye Position Traces"
     ]
    },
    {
     "cell_type": "code",
     "collapsed": false,
     "input": [
      "# Data Plotting\n",
      "#\n",
      "PLOT_SIZE=19,11\n",
      "\n",
      "plt.rcParams['figure.figsize']=PLOT_SIZE\n",
      "\n",
      "# For each entry in the trial_conditions data table plot the data streams\n",
      "# for the given eye tracker type.\n",
      "#\n",
      "fig_names=[]\n",
      "plot_field_groups=ET_WORKBOOK_INFO['gaze_fields']\n",
      "\n",
      "for t,tsamples in enumerate(session_trial_sample_data):\n",
      "    tmin=tsamples.time.min()//1\n",
      "    tmax=tsamples.time.max()//1+1\n",
      "    fig_names.append(\"Trial %d Eye Sample Strip Chart\"%(t+1))\n",
      "\n",
      "    for si,subplot_labels in enumerate(plot_field_groups):\n",
      "        fig = plt.figure(fig_names[-1])\n",
      "        fig.suptitle(fig_names[-1])\n",
      "        sp_axis = fig.add_subplot(len(plot_field_groups),1,si+1)\n",
      "        for data_label in subplot_labels:\n",
      "            sp_axis.plot(tsamples.time,getattr(tsamples,data_label),label=data_label)\n",
      "        plt.xticks(np.arange(tmin,tmax,0.5),rotation='vertical')\n",
      "        trans = mtransforms.blended_transform_factory(sp_axis.transData, sp_axis.transAxes)\n",
      "        sp_axis.fill_between(tsamples.time, 0, 1, where=getattr(tsamples,ET_WORKBOOK_INFO['pupil_size_fields'][si])==0, facecolor='DarkRed', alpha=0.5, transform=trans)\n",
      "        sp_axis.set_xlabel('Time')\n",
      "        sp_axis.set_ylabel('Position (pixels)')\n",
      "        plt.legend(loc=(1.01,.8))\n",
      "        \n",
      "    \n",
      "    plt.show()"
     ],
     "language": "python",
     "metadata": {},
     "outputs": [],
     "prompt_number": 4
    },
    {
     "cell_type": "markdown",
     "metadata": {},
     "source": [
      "###Plotting a Specific Time Period With Trials"
     ]
    },
    {
     "cell_type": "code",
     "collapsed": false,
     "input": [
      "fig_names=[]\n",
      "plot_field_groups=ET_WORKBOOK_INFO['gaze_fields']\n",
      "\n",
      "for t,tsamples in enumerate(session_trial_sample_data):\n",
      "    tmin=tsamples.time.min()+10.0//1\n",
      "    tmax=tmin+1.0\n",
      "    within_min_max=(tsamples.time >= tmin) & (tsamples.time < tmax)\n",
      "    fig_names.append(\"Trial %d Eye Samples for Interval %.4f - %.4f\"%(t+1,tmin,tmax))\n",
      "\n",
      "    for si,subplot_labels in enumerate(plot_field_groups):\n",
      "        fig = plt.figure(fig_names[-1])\n",
      "        fig.suptitle(fig_names[-1])\n",
      "        sp_axis = fig.add_subplot(len(plot_field_groups),1,si+1)\n",
      "        for data_label in subplot_labels:\n",
      "            sp_axis.plot(tsamples.time[within_min_max],getattr(tsamples,data_label)[within_min_max],label=data_label)\n",
      "        plt.xticks(np.arange(tmin,tmax,0.025),rotation='vertical')\n",
      "        trans = mtransforms.blended_transform_factory(sp_axis.transData, sp_axis.transAxes)\n",
      "        sp_axis.fill_between(tsamples.time[within_min_max], 0, 1, where=getattr(tsamples,ET_WORKBOOK_INFO['pupil_size_fields'][si])[within_min_max]==0, facecolor='DarkRed', alpha=0.5, transform=trans)\n",
      "        sp_axis.set_xlabel('Time')\n",
      "        sp_axis.set_ylabel('Position (pixels)')\n",
      "        plt.legend(loc=(1.01,.8))\n",
      "        \n",
      "    \n",
      "    plt.show()"
     ],
     "language": "python",
     "metadata": {},
     "outputs": [],
     "prompt_number": 5
    },
    {
     "cell_type": "code",
     "collapsed": false,
     "input": [
      "## Cleaning Up Figure Memory\n",
      "#\n",
      "for fgnm in fig_names:\n",
      "    fig = plt.figure(fgnm)\n",
      "    plt.close()"
     ],
     "language": "python",
     "metadata": {},
     "outputs": [],
     "prompt_number": 6
    },
    {
     "cell_type": "markdown",
     "metadata": {},
     "source": [
      "----\n",
      "\n",
      "#B. Scan Path Plotting\n",
      "\n",
      "Please open the **\"Scan Path Plotting\"** notebook.\n"
     ]
    },
    {
     "cell_type": "markdown",
     "metadata": {},
     "source": [
      "----\n",
      "\n",
      "#C. Fixation Heat Maps\n",
      "\n",
      "Please open the **\"Fixation Map - Heat Map Creation\"** notebook.\n",
      "\n",
      "----\n"
     ]
    },
    {
     "cell_type": "markdown",
     "metadata": {},
     "source": [
      "#D. Eye Movement Animations\n",
      "\n",
      "Please start notebook without pllab in inline mode and open the **\"Eye Position Animation\"** notebook.\n",
      "\n",
      "----\n",
      "\n"
     ]
    }
   ],
   "metadata": {}
  }
 ]
}