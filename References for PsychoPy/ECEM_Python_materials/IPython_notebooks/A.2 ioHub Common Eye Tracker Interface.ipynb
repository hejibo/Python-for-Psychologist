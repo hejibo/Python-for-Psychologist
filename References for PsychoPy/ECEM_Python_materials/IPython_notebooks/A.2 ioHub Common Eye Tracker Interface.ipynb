{
 "metadata": {
  "name": "A.2 ioHub Common Eye Tracker Interface"
 },
 "nbformat": 3,
 "nbformat_minor": 0,
 "worksheets": [
  {
   "cells": [
    {
     "cell_type": "markdown",
     "metadata": {},
     "source": [
      "#A.2 [The ioHub Common Eye Tracker Interface](http://www.isolver-solutions.com/iohubdocs/iohub/api_and_manual/device_details/eyetracker.html#the-iohub-common-eye-tracker-interface)\n",
      "\n",
      "The Common Eye Tracking Interface provides the same user level Python API for all supported eye tracking hardware, meaning:\n",
      "\n",
      "- The same experiment script can be run with any supported eye tracker hardware.\n",
      "- The eye event types supported by a eye tracking device implementation are saved using the same format regardless of eye tracker hardware.\n",
      "\n",
      "### A. [Currently Supported Eye Tracking Systems](http://www.isolver-solutions.com/iohubdocs/iohub/api_and_manual/device_details/eyetracker.html#eye-tracking-hardware-implementations)\n",
      "\n",
      "- **LC Technologies** EyeGaze and EyeFollower models.\n",
      "- **SensoMotoric Instruments** iViewX models.\n",
      "- **SR Research** EyeLink models.\n",
      "- **Tobii Technologies** Tobii models.\n",
      "\n",
      "---\n",
      "\n",
      "### B. Areas of supported functionality:\n",
      "\n",
      "1. **Initializing the Eye Tracker / Setting the Device State.**\n",
      "2. **Performing Calibration / System Setup.**\n",
      "3. **Starting and Stopping of Data Recording.**\n",
      "4. Sending Messages or Codes to an Eye Tracker.\n",
      "5. **Accessing Eye Tracker Data During Recording.**\n",
      "6. **Accessing the Eye Tracker native time base.**\n",
      "7. **Synchronizing the ioHub time base with the Eye Tracker time base.**\n",
      "\n",
      "Note: Area's of Functionality in **bold** are considered core areas, and must be implemented for every eye tracker interface.\n",
      "\n",
      "** See the [Common Eye Tracker Interface API specification](http://www.isolver-solutions.com/iohubdocs/iohub/api_and_manual/device_details/eyetracker.html#the-iohub-common-eye-tracker-interface) for details, and the [Supported Eye Tracking System Implementation Notes Pages](http://www.isolver-solutions.com/iohubdocs/iohub/api_and_manual/device_details/eyetracker.html#eye-tracking-hardware-implementations) for information on supported functionality for a particular eye tracker device.\n",
      "\n",
      "---\n"
     ]
    },
    {
     "cell_type": "markdown",
     "metadata": {},
     "source": [
      "###C. Using the ioHub Common Eye Tracker Interface in a PsychoPy *Coder Style* Experiment\n",
      "\n",
      "We'll use the psychopy.demos.coder.iohub_extended.eye_tracker demo."
     ]
    },
    {
     "cell_type": "markdown",
     "metadata": {},
     "source": [
      "---\n",
      "\n",
      "### D. Using ioHub with the PsychoPy Builder Environment\n",
      "\n",
      "- We'll get into that after lunch."
     ]
    }
   ],
   "metadata": {}
  }
 ]
}